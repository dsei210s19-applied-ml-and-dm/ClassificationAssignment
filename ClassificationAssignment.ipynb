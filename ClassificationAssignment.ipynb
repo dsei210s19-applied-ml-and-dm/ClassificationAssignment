{
 "cells": [
  {
   "cell_type": "markdown",
   "metadata": {},
   "source": [
    "# Binary Classification\n",
    "\n",
    "\n",
    "# Assignment\n",
    "\n",
    "\n",
    "**Background:** Imagine that you are an admissions officer for a highly\n",
    "sought-after graduate program. As part of a new initiative to streamline\n",
    "the admissions process, a function -- whose precise specifications are\n",
    "known only to the administration -- has been developed to evaluate each\n",
    "application with respect to some criteria. A composite metric known as\n",
    "'fit' is computed for each individual candidate; those scoring *greater\n",
    "than or equal to 70* are extended an admissions offer.\n",
    "\n",
    "**Objective:** In the absence of a clear-cut function with which to\n",
    "assign 'fit' scores, learn a classification rule by assembling and\n",
    "training classification models on historical admissions data. Thus the\n",
    "target here is to predict the \"chance of admit > .7\" from the other columns.\n",
    "\n",
    "------------------------------------------------------------------------\n",
    "\n",
    "Note: For reproducible results, include `random_state=42` as a parameter\n",
    "to Sklearn functions.\n",
    "\n",
    "1.  -   Examine the structure and format of the data. \n",
    "            - Is it suitable for logistic regression? \n",
    "            - How do the features relate to one another?\n",
    "            - If necessary, encode the target variable based \n",
    "              on the threshold of 70% in other words chance of admit .7\n",
    "\n",
    "    -   Apply PCA to the input dimensions (excluding the target) and \n",
    "        select the first two principal components that *account for 80% \n",
    "        of the variance. \n",
    "        - Scatter plot the data in the first two PCA dimensions. Color the dots\n",
    "          so we can see chance of admit.\n",
    "        - We should only performing dimensionality reduction merely for the sake of\n",
    "          visualization -- in this instance. Below we will note the adverse effect it would\n",
    "          have on the model's overall performance if we used only the first two PCA components\n",
    "          in the classification.\n",
    "\n",
    "    -   Split the data into a training and testing set. The testing set\n",
    "        should be one fifth the size of the training set.\n",
    "\n",
    "\n",
    "1. You will run and evaluate the following classification models on the data\n",
    "\n",
    "    **(1)** *logistic regression*\n",
    "    \n",
    "    **(2)** *linear support vector classification*\n",
    "    \n",
    "    **(3)** *k-nearest neighbors classification*\n",
    "    \n",
    "    **(4)** *decision tree classification*\n",
    "\n",
    "    -   Train and test your classifiers using the previously reduced\n",
    "        data. For each model, plot the classification probability.\n",
    "\n",
    "    -   Manually tune your models' hyperparameters so that each achieves\n",
    "        a *Cohen's kappa statistic* greater than 0.65. Note that this function\n",
    "        can be fount in\n",
    "        \n",
    "            sklearn.metrics.cohen_kappa_score\n",
    "        \n",
    "        here you will compare the test 'y' ground truth labels to the model\n",
    "        predictions.\n",
    "\n",
    "        -   For logistic regression and support vector classification,\n",
    "            adjust the inverse regularization parameter `C` and observe\n",
    "            how the probability threshold reacts. Considering the ratio\n",
    "            between accepted and rejected applicants, adjust the\n",
    "            `class_weight` parameter accordingly. Use a range of values plot\n",
    "            the score. \n",
    "\n",
    "        -   For k-nearest neighbors classification, consider adjusting\n",
    "            the `n_neighbors` parameter. Generally, the empirically\n",
    "            optimal K is found using an optimization heuristic -- in\n",
    "            this case, adjust the parameter manually and observe any\n",
    "            changes.\n",
    "\n",
    "    -   Compute the *accuracy* score for each classifier. Why might this\n",
    "        be a misleading performance metric?\n",
    "\n",
    "    -   Shuffle your data set. If at all, how does this affect your\n",
    "        results? Try a different train, test split (different random seed). How much\n",
    "        does this matter?\n",
    "        \n",
    "    -   Do decision trees differ between runs? Try three or for different runs with different randomizations and\n",
    "        see how results differ. See both how accuracy differs and the trees differ. For\n",
    "        interpretability, use the PyDotPlus package to visualize your decision trees.\n"
   ]
  },
  {
   "cell_type": "code",
   "execution_count": 33,
   "metadata": {},
   "outputs": [],
   "source": [
    "import pandas as pd"
   ]
  },
  {
   "cell_type": "code",
   "execution_count": 101,
   "metadata": {},
   "outputs": [],
   "source": [
    "df = pd.read_csv(\"Admission_Predict.csv\")"
   ]
  },
  {
   "cell_type": "code",
   "execution_count": 102,
   "metadata": {},
   "outputs": [
    {
     "data": {
      "text/html": [
       "<div>\n",
       "<style scoped>\n",
       "    .dataframe tbody tr th:only-of-type {\n",
       "        vertical-align: middle;\n",
       "    }\n",
       "\n",
       "    .dataframe tbody tr th {\n",
       "        vertical-align: top;\n",
       "    }\n",
       "\n",
       "    .dataframe thead th {\n",
       "        text-align: right;\n",
       "    }\n",
       "</style>\n",
       "<table border=\"1\" class=\"dataframe\">\n",
       "  <thead>\n",
       "    <tr style=\"text-align: right;\">\n",
       "      <th></th>\n",
       "      <th>Serial No.</th>\n",
       "      <th>GRE Score</th>\n",
       "      <th>TOEFL Score</th>\n",
       "      <th>University Rating</th>\n",
       "      <th>SOP</th>\n",
       "      <th>LOR</th>\n",
       "      <th>CGPA</th>\n",
       "      <th>Research</th>\n",
       "      <th>Fit</th>\n",
       "    </tr>\n",
       "  </thead>\n",
       "  <tbody>\n",
       "    <tr>\n",
       "      <th>0</th>\n",
       "      <td>1</td>\n",
       "      <td>337</td>\n",
       "      <td>118</td>\n",
       "      <td>4</td>\n",
       "      <td>4.5</td>\n",
       "      <td>4.5</td>\n",
       "      <td>9.65</td>\n",
       "      <td>1</td>\n",
       "      <td>0.92</td>\n",
       "    </tr>\n",
       "    <tr>\n",
       "      <th>1</th>\n",
       "      <td>2</td>\n",
       "      <td>324</td>\n",
       "      <td>107</td>\n",
       "      <td>4</td>\n",
       "      <td>4.0</td>\n",
       "      <td>4.5</td>\n",
       "      <td>8.87</td>\n",
       "      <td>1</td>\n",
       "      <td>0.76</td>\n",
       "    </tr>\n",
       "    <tr>\n",
       "      <th>2</th>\n",
       "      <td>3</td>\n",
       "      <td>316</td>\n",
       "      <td>104</td>\n",
       "      <td>3</td>\n",
       "      <td>3.0</td>\n",
       "      <td>3.5</td>\n",
       "      <td>8.00</td>\n",
       "      <td>1</td>\n",
       "      <td>0.72</td>\n",
       "    </tr>\n",
       "    <tr>\n",
       "      <th>3</th>\n",
       "      <td>4</td>\n",
       "      <td>322</td>\n",
       "      <td>110</td>\n",
       "      <td>3</td>\n",
       "      <td>3.5</td>\n",
       "      <td>2.5</td>\n",
       "      <td>8.67</td>\n",
       "      <td>1</td>\n",
       "      <td>0.80</td>\n",
       "    </tr>\n",
       "    <tr>\n",
       "      <th>4</th>\n",
       "      <td>5</td>\n",
       "      <td>314</td>\n",
       "      <td>103</td>\n",
       "      <td>2</td>\n",
       "      <td>2.0</td>\n",
       "      <td>3.0</td>\n",
       "      <td>8.21</td>\n",
       "      <td>0</td>\n",
       "      <td>0.65</td>\n",
       "    </tr>\n",
       "  </tbody>\n",
       "</table>\n",
       "</div>"
      ],
      "text/plain": [
       "   Serial No.  GRE Score  TOEFL Score  University Rating  SOP  LOR   CGPA  \\\n",
       "0           1        337          118                  4  4.5   4.5  9.65   \n",
       "1           2        324          107                  4  4.0   4.5  8.87   \n",
       "2           3        316          104                  3  3.0   3.5  8.00   \n",
       "3           4        322          110                  3  3.5   2.5  8.67   \n",
       "4           5        314          103                  2  2.0   3.0  8.21   \n",
       "\n",
       "   Research   Fit  \n",
       "0         1  0.92  \n",
       "1         1  0.76  \n",
       "2         1  0.72  \n",
       "3         1  0.80  \n",
       "4         0  0.65  "
      ]
     },
     "execution_count": 102,
     "metadata": {},
     "output_type": "execute_result"
    }
   ],
   "source": [
    "df.head()"
   ]
  },
  {
   "cell_type": "code",
   "execution_count": 103,
   "metadata": {},
   "outputs": [],
   "source": [
    "df.loc[df['Fit'] >= 0.7] = 1\n",
    "df.loc[df['Fit'] < 0.7] = 0"
   ]
  },
  {
   "cell_type": "code",
   "execution_count": 104,
   "metadata": {},
   "outputs": [],
   "source": [
    "X = df[df.columns.difference(['Fit', 'Serial No.'])]\n",
    "y = df['Fit']"
   ]
  },
  {
   "cell_type": "code",
   "execution_count": 47,
   "metadata": {},
   "outputs": [],
   "source": [
    "from sklearn.decomposition import PCA"
   ]
  },
  {
   "cell_type": "code",
   "execution_count": 60,
   "metadata": {},
   "outputs": [
    {
     "data": {
      "text/plain": [
       "PCA(copy=True, iterated_power='auto', n_components=2, random_state=42,\n",
       "  svd_solver='auto', tol=0.0, whiten=False)"
      ]
     },
     "execution_count": 60,
     "metadata": {},
     "output_type": "execute_result"
    }
   ],
   "source": [
    "pca = PCA(n_components=2, random_state=42)\n",
    "pca.fit(X)"
   ]
  },
  {
   "cell_type": "code",
   "execution_count": 61,
   "metadata": {},
   "outputs": [
    {
     "name": "stdout",
     "output_type": "stream",
     "text": [
      "[0.93475206 0.05385856]\n"
     ]
    }
   ],
   "source": [
    "print(pca.explained_variance_ratio_)"
   ]
  },
  {
   "cell_type": "code",
   "execution_count": 62,
   "metadata": {},
   "outputs": [
    {
     "name": "stdout",
     "output_type": "stream",
     "text": [
      "[253.43830778  60.83470429]\n"
     ]
    }
   ],
   "source": [
    "print(pca.singular_values_)  "
   ]
  },
  {
   "cell_type": "code",
   "execution_count": 68,
   "metadata": {},
   "outputs": [],
   "source": [
    "principalComponents = pca.transform(X)\n",
    "principalDf = pd.DataFrame(data=principalComponents, columns = ['principal component 1', 'principal component 2'])"
   ]
  },
  {
   "cell_type": "code",
   "execution_count": 95,
   "metadata": {},
   "outputs": [],
   "source": [
    "import matplotlib.pyplot as plt\n",
    "import seaborn"
   ]
  },
  {
   "cell_type": "code",
   "execution_count": 105,
   "metadata": {},
   "outputs": [
    {
     "data": {
      "text/plain": [
       "<matplotlib.axes._subplots.AxesSubplot at 0x1a259c1f98>"
      ]
     },
     "execution_count": 105,
     "metadata": {},
     "output_type": "execute_result"
    },
    {
     "data": {
      "image/png": "[encoded data removed]",
      "text/plain": [
       "<Figure size 432x288 with 1 Axes>"
      ]
     },
     "metadata": {
      "needs_background": "light"
     },
     "output_type": "display_data"
    }
   ],
   "source": [
    "seaborn.scatterplot(x='principal component 1', y='principal component 2', data=principalDf, hue=y)"
   ]
  },
  {
   "cell_type": "code",
   "execution_count": 106,
   "metadata": {},
   "outputs": [],
   "source": [
    "from sklearn.model_selection import train_test_split"
   ]
  },
  {
   "cell_type": "code",
   "execution_count": null,
   "metadata": {},
   "outputs": [],
   "source": [
    "train_X, traintrain_test_split"
   ]
  }
 ],
 "metadata": {
  "kernelspec": {
   "display_name": "Python 3",
   "language": "python",
   "name": "python3"
  },
  "language_info": {
   "codemirror_mode": {
    "name": "ipython",
    "version": 3
   },
   "file_extension": ".py",
   "mimetype": "text/x-python",
   "name": "python",
   "nbconvert_exporter": "python",
   "pygments_lexer": "ipython3",
   "version": "3.7.1"
  },
  "toc": {
   "base_numbering": 1,
   "nav_menu": {},
   "number_sections": false,
   "sideBar": false,
   "skip_h1_title": false,
   "title_cell": "Table of Contents",
   "title_sidebar": "Contents",
   "toc_cell": false,
   "toc_position": {},
   "toc_section_display": false,
   "toc_window_display": false
  }
 },
 "nbformat": 4,
 "nbformat_minor": 1
}
